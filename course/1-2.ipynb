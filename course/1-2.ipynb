{
 "cells": [
  {
   "cell_type": "code",
   "execution_count": 8,
   "metadata": {},
   "outputs": [
    {
     "data": {
      "text/plain": [
       "['yu']"
      ]
     },
     "execution_count": 8,
     "metadata": {},
     "output_type": "execute_result"
    }
   ],
   "source": [
    "string = \"aliyunedu\"\n",
    "pat = \"yu\"\n",
    "re.compile(pat).findall(string)"
   ]
  },
  {
   "cell_type": "code",
   "execution_count": 10,
   "metadata": {},
   "outputs": [
    {
     "data": {
      "text/plain": [
       "['u89789']"
      ]
     },
     "execution_count": 10,
     "metadata": {},
     "output_type": "execute_result"
    }
   ],
   "source": [
    "string = \"aliyu89789nedu\"\n",
    "pat = \"\\w\\d\\w\\d\\d\\w\"\n",
    "re.compile(pat).findall(string)\n"
   ]
  },
  {
   "cell_type": "code",
   "execution_count": 13,
   "metadata": {},
   "outputs": [
    {
     "data": {
      "text/plain": [
       "[]"
      ]
     },
     "execution_count": 13,
     "metadata": {},
     "output_type": "execute_result"
    }
   ],
   "source": [
    "string = \"\"\"\n",
    "<html>\n",
    "<head>\n",
    "<title>\n",
    "主页\n",
    "</title>\n",
    "</head>\n",
    "<body>\n",
    "<p>abc</p>\n",
    "<p>bbbvb</p>\n",
    " <a href=\"//qd.alibaba.com/go/v/pcdetail\" target=\"_top\">安全推荐</a>\n",
    "<a href=\"//qd.alibaba.com/go/v/pcdetail\" target=\"_top\">安全推荐2</a>\n",
    "<div class=\"J_AsyncDC\" data-type=\"dr\">\n",
    "        <div id=\"official-remind\">明月几时有\n",
    "</div>\n",
    "</div>\n",
    "</body>\n",
    "\"\"\"\n",
    "pat = \"/html/head/title/text()\"\n",
    "re.compile(pat).findall(string)\n"
   ]
  },
  {
   "cell_type": "code",
   "execution_count": 14,
   "metadata": {},
   "outputs": [
    {
     "data": {
      "text/plain": [
       "['京东(JD.COM)-正品低价、品质保障、配送及时、轻松购物！']"
      ]
     },
     "execution_count": 14,
     "metadata": {},
     "output_type": "execute_result"
    }
   ],
   "source": [
    "import urllib.request\n",
    "import re\n",
    "import random\n",
    "\n",
    "data = urllib.request.urlopen(\"http://www.jd.com\").read().decode('utf-8', 'ignore')\n",
    "pat = \"<title>(.*?)</title>\"\n",
    "re.compile(pat, re.S).findall(data)\n"
   ]
  },
  {
   "cell_type": "code",
   "execution_count": 17,
   "metadata": {},
   "outputs": [
    {
     "data": {
      "text/plain": [
       "('/home/workspace/python/reptile/resource/jd.html',\n <http.client.HTTPMessage at 0x10facd550>)"
      ]
     },
     "execution_count": 17,
     "metadata": {},
     "output_type": "execute_result"
    }
   ],
   "source": [
    "import urllib.request\n",
    "urllib.request.urlretrieve(\"http://www.jd.com\", filename=\"/home/workspace/python/reptile/resource/jd.html\")"
   ]
  },
  {
   "cell_type": "code",
   "execution_count": 18,
   "metadata": {},
   "outputs": [
    {
     "data": {
      "text/plain": [
       "('/home/workspace/python/reptile/resource/jd.html',\n <http.client.HTTPMessage at 0x10fb1a0b8>)"
      ]
     },
     "execution_count": 18,
     "metadata": {},
     "output_type": "execute_result"
    }
   ],
   "source": [
    "# 浏览器伪装\n",
    "import urllib.request\n",
    "\n",
    "headers = (\"User-Agent\",\n",
    "\t\t   \"Mozilla/5.0 (Windows NT 6.1; WOW64) AppleWebKit/537.36 (KHTML, like Gecko) Chrome/38.0.2125.122 Safari/537.36 SE 2.X MetaSr 1.0\")\n",
    "opener = urllib.request.build_opener()\n",
    "opener.addheaders = [headers]\n",
    "# 将opener安装为全局\n",
    "urllib.request.install_opener(opener)\n",
    "urllib.request.urlretrieve(\"https://www.qiushibaike.com/\", filename=\"/home/workspace/python/reptile/resource/jd.html\")\n"
   ]
  },
  {
   "cell_type": "code",
   "execution_count": 19,
   "metadata": {},
   "outputs": [
    {
     "name": "stdout",
     "output_type": "stream",
     "text": [
      "当前使用UA：Mozilla/5.0 (Windows NT 10.0; WOW64) AppleWebKit/537.36 (KHTML, like Gecko) Chrome/49.0.2623.22 Safari/537.36 SE 2.X MetaSr 1.0\n"
     ]
    },
    {
     "name": "stdout",
     "output_type": "stream",
     "text": [
      "当前使用UA：Mozilla/5.0 (Windows NT 10.0; Win64; x64) AppleWebKit/537.36 (KHTML, like Gecko) Chrome/51.0.2704.79 Safari/537.36 Edge/14.14393\n"
     ]
    },
    {
     "name": "stdout",
     "output_type": "stream",
     "text": [
      "当前使用UA：Mozilla/4.0 (compatible; MSIE 7.0; Windows NT 5.1; Maxthon 2.0)\n"
     ]
    },
    {
     "name": "stdout",
     "output_type": "stream",
     "text": [
      "当前使用UA：Mozilla/5.0 (Windows NT 10.0; WOW64) AppleWebKit/537.36 (KHTML, like Gecko) Chrome/49.0.2623.22 Safari/537.36 SE 2.X MetaSr 1.0\n"
     ]
    },
    {
     "name": "stdout",
     "output_type": "stream",
     "text": [
      "当前使用UA：Mozilla/4.0 (compatible; MSIE 7.0; Windows NT 5.1; Maxthon 2.0)\n"
     ]
    },
    {
     "name": "stdout",
     "output_type": "stream",
     "text": [
      "当前使用UA：Mozilla/4.0 (compatible; MSIE 7.0; Windows NT 5.1; Maxthon 2.0)\n"
     ]
    },
    {
     "name": "stdout",
     "output_type": "stream",
     "text": [
      "当前使用UA：Mozilla/5.0 (Windows NT 10.0; WOW64) AppleWebKit/537.36 (KHTML, like Gecko) Chrome/49.0.2623.22 Safari/537.36 SE 2.X MetaSr 1.0\n"
     ]
    },
    {
     "name": "stdout",
     "output_type": "stream",
     "text": [
      "当前使用UA：Mozilla/5.0 (Windows NT 10.0; Win64; x64) AppleWebKit/537.36 (KHTML, like Gecko) Chrome/51.0.2704.79 Safari/537.36 Edge/14.14393\n"
     ]
    },
    {
     "name": "stdout",
     "output_type": "stream",
     "text": [
      "当前使用UA：Mozilla/4.0 (compatible; MSIE 7.0; Windows NT 5.1; Maxthon 2.0)\n"
     ]
    },
    {
     "name": "stdout",
     "output_type": "stream",
     "text": [
      "当前使用UA：Mozilla/5.0 (Windows NT 10.0; Win64; x64) AppleWebKit/537.36 (KHTML, like Gecko) Chrome/51.0.2704.79 Safari/537.36 Edge/14.14393\n"
     ]
    },
    {
     "name": "stdout",
     "output_type": "stream",
     "text": [
      "当前使用UA：Mozilla/4.0 (compatible; MSIE 7.0; Windows NT 5.1; Maxthon 2.0)\n"
     ]
    },
    {
     "name": "stdout",
     "output_type": "stream",
     "text": [
      "38600\n"
     ]
    },
    {
     "name": "stdout",
     "output_type": "stream",
     "text": [
      "38600\n"
     ]
    },
    {
     "name": "stdout",
     "output_type": "stream",
     "text": [
      "38600\n当前使用UA：Mozilla/5.0 (Windows NT 10.0; Win64; x64) AppleWebKit/537.36 (KHTML, like Gecko) Chrome/51.0.2704.79 Safari/537.36 Edge/14.14393\n"
     ]
    },
    {
     "name": "stdout",
     "output_type": "stream",
     "text": [
      "38600\n"
     ]
    },
    {
     "name": "stdout",
     "output_type": "stream",
     "text": [
      "38600\n"
     ]
    },
    {
     "name": "stdout",
     "output_type": "stream",
     "text": [
      "38600\n当前使用UA：Mozilla/4.0 (compatible; MSIE 7.0; Windows NT 5.1; Maxthon 2.0)\n"
     ]
    },
    {
     "name": "stdout",
     "output_type": "stream",
     "text": [
      "38600\n"
     ]
    },
    {
     "name": "stdout",
     "output_type": "stream",
     "text": [
      "38600\n"
     ]
    },
    {
     "name": "stdout",
     "output_type": "stream",
     "text": [
      "38600\n当前使用UA：Mozilla/4.0 (compatible; MSIE 7.0; Windows NT 5.1; Maxthon 2.0)\n"
     ]
    },
    {
     "name": "stdout",
     "output_type": "stream",
     "text": [
      "38600\n"
     ]
    }
   ],
   "source": [
    "# 用户代理池\n",
    "uapools = [\n",
    "\t\"Mozilla/5.0 (Windows NT 10.0; Win64; x64) AppleWebKit/537.36 (KHTML, like Gecko) Chrome/51.0.2704.79 Safari/537.36 Edge/14.14393\",\n",
    "\t\"Mozilla/5.0 (Windows NT 10.0; WOW64) AppleWebKit/537.36 (KHTML, like Gecko) Chrome/49.0.2623.22 Safari/537.36 SE 2.X MetaSr 1.0\",\n",
    "\t\"Mozilla/4.0 (compatible; MSIE 7.0; Windows NT 5.1; Maxthon 2.0)\",\n",
    "]\n",
    "url = \"https://www.qiushibaike.com/\"\n",
    "\n",
    "\n",
    "def UA():\n",
    "\topener = urllib.request.build_opener()\n",
    "\tthisua = random.choice(uapools)\n",
    "\tua = (\"User-Agent\", thisua)\n",
    "\topener.addheaders = [ua]\n",
    "\turllib.request.install_opener(opener)\n",
    "\tprint(\"当前使用UA：\" + str(thisua))\n",
    "\n",
    "\n",
    "for i in range(0, 10):\n",
    "\tUA()\n",
    "\tdata = urllib.request.urlopen(url).read().decode(\"utf-8\", \"ignore\")\n",
    "\n",
    "for i in range(0, 10):\n",
    "\tif i % 3 == 0:\n",
    "\t\tUA()\n",
    "\tdata = urllib.request.urlopen(url).read().decode(\"utf-8\", \"ignore\")\n",
    "\tprint(len(data))\n"
   ]
  },
  {
   "cell_type": "code",
   "execution_count": 12,
   "metadata": {
    "collapsed": false
   },
   "outputs": [],
   "source": [
    "# 糗事百科爬虫\n",
    "\n",
    "import urllib.request\n",
    "import random\n",
    "import re\n",
    "\n",
    "uapools = [\n",
    "\t\"Mozilla/5.0 (Windows NT 10.0; Win64; x64) AppleWebKit/537.36 (KHTML, like Gecko) Chrome/51.0.2704.79 Safari/537.36 Edge/14.14393\",\n",
    "\t\"Mozilla/5.0 (Windows NT 10.0; WOW64) AppleWebKit/537.36 (KHTML, like Gecko) Chrome/49.0.2623.22 Safari/537.36 SE 2.X MetaSr 1.0\",\n",
    "\t\"Mozilla/4.0 (compatible; MSIE 7.0; Windows NT 5.1; Maxthon 2.0)\",\n",
    "]\n",
    "\n",
    "\n",
    "def UA():\n",
    "\topener = urllib.request.build_opener()\n",
    "\tthisua = random.choice(uapools)\n",
    "\tua = (\"User-Agent\", thisua)\n",
    "\topener.addheaders = [ua]\n",
    "\turllib.request.install_opener(opener)\n",
    "\n",
    "\n",
    "for i in range(3):\n",
    "\tUA()\n",
    "\tthisurl = \"http://www.qiushibaike.com/8hr/page/\" + str(i + 1) + \"/?s=4948859\"\n",
    "\tdata = urllib.request.urlopen(thisurl).read().decode(\"utf-8\", \"ignore\")\n",
    "\t# print(data)\n",
    "\tpat = '<div class=\"recmd-right\">.*?<a class=\"recmd-content\">(.*?)</a>.*?</div>'\n",
    "\trst = re.compile(pat, re.S).findall(data)\n",
    "\tfor j in range(0, len(rst)):\n",
    "\t\tprint(rst[j])\n",
    "\t\tprint(\"-------\")\n"
   ]
  },
  {
   "cell_type": "code",
   "execution_count": null,
   "metadata": {},
   "outputs": [],
   "source": []
  }
 ],
 "metadata": {
  "kernelspec": {
   "display_name": "Python 2",
   "language": "python",
   "name": "python2"
  },
  "language_info": {
   "codemirror_mode": {
    "name": "ipython",
    "version": 2
   },
   "file_extension": ".py",
   "mimetype": "text/x-python",
   "name": "python",
   "nbconvert_exporter": "python",
   "pygments_lexer": "ipython2",
   "version": "2.7.6"
  }
 },
 "nbformat": 4,
 "nbformat_minor": 0
}
