{
  "cells": [
    {
      "cell_type": "code",
      "execution_count": 2,
      "outputs": [
        {
          "name": "stdout",
          "text": [
            "[\u0027yu\u0027]\n"
          ],
          "output_type": "stream"
        }
      ],
      "source": "import re\nstring \u003d \"aliyunedu\"\npat \u003d \"yu\"\nres \u003d re.compile(pat).findall(string)\nprint(res)\n",
      "metadata": {
        "pycharm": {
          "metadata": false,
          "name": "#%%\n",
          "is_executing": false
        }
      }
    },
    {
      "cell_type": "code",
      "execution_count": null,
      "outputs": [],
      "source": "string \u003d \"aliyu89789nedu\"\npat \u003d \"\\w\\d\\w\\d\\d\\w\"\nre.compile(pat).findall(string)\n",
      "metadata": {
        "pycharm": {
          "metadata": false,
          "name": "#%%\n"
        }
      }
    },
    {
      "cell_type": "code",
      "execution_count": 13,
      "metadata": {
        "pycharm": {}
      },
      "outputs": [
        {
          "data": {
            "text/plain": [
              "[]"
            ]
          },
          "execution_count": 13,
          "metadata": {},
          "output_type": "execute_result"
        }
      ],
      "source": "string \u003d \"\"\"\n\u003chtml\u003e\n\u003chead\u003e\n\u003ctitle\u003e\n主页\n\u003c/title\u003e\n\u003c/head\u003e\n\u003cbody\u003e\n\u003cp\u003eabc\u003c/p\u003e\n\u003cp\u003ebbbvb\u003c/p\u003e\n \u003ca href\u003d\"//qd.alibaba.com/go/v/pcdetail\" target\u003d\"_top\"\u003e安全推荐\u003c/a\u003e\n\u003ca href\u003d\"//qd.alibaba.com/go/v/pcdetail\" target\u003d\"_top\"\u003e安全推荐2\u003c/a\u003e\n\u003cdiv class\u003d\"J_AsyncDC\" data-type\u003d\"dr\"\u003e\n        \u003cdiv id\u003d\"official-remind\"\u003e明月几时有\n\u003c/div\u003e\n\u003c/div\u003e\n\u003c/body\u003e\n\"\"\"\npat \u003d \"/html/head/title/text()\"\nre.compile(pat).findall(string)\n"
    },
    {
      "cell_type": "code",
      "execution_count": 14,
      "metadata": {
        "pycharm": {}
      },
      "outputs": [
        {
          "data": {
            "text/plain": [
              "[\u0027京东(JD.COM)-正品低价、品质保障、配送及时、轻松购物！\u0027]"
            ]
          },
          "execution_count": 14,
          "metadata": {},
          "output_type": "execute_result"
        }
      ],
      "source": [
        "import urllib.request\n",
        "import re\n",
        "import random\n",
        "\n",
        "data \u003d urllib.request.urlopen(\"http://www.jd.com\").read().decode(\u0027utf-8\u0027, \u0027ignore\u0027)\n",
        "pat \u003d \"\u003ctitle\u003e(.*?)\u003c/title\u003e\"\n",
        "re.compile(pat, re.S).findall(data)\n"
      ]
    },
    {
      "cell_type": "code",
      "execution_count": 17,
      "metadata": {
        "pycharm": {}
      },
      "outputs": [
        {
          "data": {
            "text/plain": [
              "(\u0027/home/workspace/python/reptile/resource/jd.html\u0027,\n \u003chttp.client.HTTPMessage at 0x10facd550\u003e)"
            ]
          },
          "execution_count": 17,
          "metadata": {},
          "output_type": "execute_result"
        }
      ],
      "source": [
        "import urllib.request\n",
        "urllib.request.urlretrieve(\"http://www.jd.com\", filename\u003d\"/home/workspace/python/reptile/resource/jd.html\")"
      ]
    },
    {
      "cell_type": "code",
      "execution_count": 18,
      "metadata": {
        "pycharm": {}
      },
      "outputs": [
        {
          "data": {
            "text/plain": [
              "(\u0027/home/workspace/python/reptile/resource/jd.html\u0027,\n \u003chttp.client.HTTPMessage at 0x10fb1a0b8\u003e)"
            ]
          },
          "execution_count": 18,
          "metadata": {},
          "output_type": "execute_result"
        }
      ],
      "source": [
        "# 浏览器伪装\n",
        "import urllib.request\n",
        "\n",
        "headers \u003d (\"User-Agent\",\n",
        "\t\t   \"Mozilla/5.0 (Windows NT 6.1; WOW64) AppleWebKit/537.36 (KHTML, like Gecko) Chrome/38.0.2125.122 Safari/537.36 SE 2.X MetaSr 1.0\")\n",
        "opener \u003d urllib.request.build_opener()\n",
        "opener.addheaders \u003d [headers]\n",
        "# 将opener安装为全局\n",
        "urllib.request.install_opener(opener)\n",
        "urllib.request.urlretrieve(\"https://www.qiushibaike.com/\", filename\u003d\"/home/workspace/python/reptile/resource/jd.html\")\n"
      ]
    },
    {
      "cell_type": "code",
      "execution_count": 19,
      "metadata": {
        "pycharm": {}
      },
      "outputs": [
        {
          "name": "stdout",
          "output_type": "stream",
          "text": [
            "当前使用UA：Mozilla/5.0 (Windows NT 10.0; WOW64) AppleWebKit/537.36 (KHTML, like Gecko) Chrome/49.0.2623.22 Safari/537.36 SE 2.X MetaSr 1.0\n"
          ]
        },
        {
          "name": "stdout",
          "output_type": "stream",
          "text": [
            "当前使用UA：Mozilla/5.0 (Windows NT 10.0; Win64; x64) AppleWebKit/537.36 (KHTML, like Gecko) Chrome/51.0.2704.79 Safari/537.36 Edge/14.14393\n"
          ]
        },
        {
          "name": "stdout",
          "output_type": "stream",
          "text": [
            "当前使用UA：Mozilla/4.0 (compatible; MSIE 7.0; Windows NT 5.1; Maxthon 2.0)\n"
          ]
        },
        {
          "name": "stdout",
          "output_type": "stream",
          "text": [
            "当前使用UA：Mozilla/5.0 (Windows NT 10.0; WOW64) AppleWebKit/537.36 (KHTML, like Gecko) Chrome/49.0.2623.22 Safari/537.36 SE 2.X MetaSr 1.0\n"
          ]
        },
        {
          "name": "stdout",
          "output_type": "stream",
          "text": [
            "当前使用UA：Mozilla/4.0 (compatible; MSIE 7.0; Windows NT 5.1; Maxthon 2.0)\n"
          ]
        },
        {
          "name": "stdout",
          "output_type": "stream",
          "text": [
            "当前使用UA：Mozilla/4.0 (compatible; MSIE 7.0; Windows NT 5.1; Maxthon 2.0)\n"
          ]
        },
        {
          "name": "stdout",
          "output_type": "stream",
          "text": [
            "当前使用UA：Mozilla/5.0 (Windows NT 10.0; WOW64) AppleWebKit/537.36 (KHTML, like Gecko) Chrome/49.0.2623.22 Safari/537.36 SE 2.X MetaSr 1.0\n"
          ]
        },
        {
          "name": "stdout",
          "output_type": "stream",
          "text": [
            "当前使用UA：Mozilla/5.0 (Windows NT 10.0; Win64; x64) AppleWebKit/537.36 (KHTML, like Gecko) Chrome/51.0.2704.79 Safari/537.36 Edge/14.14393\n"
          ]
        },
        {
          "name": "stdout",
          "output_type": "stream",
          "text": [
            "当前使用UA：Mozilla/4.0 (compatible; MSIE 7.0; Windows NT 5.1; Maxthon 2.0)\n"
          ]
        },
        {
          "name": "stdout",
          "output_type": "stream",
          "text": [
            "当前使用UA：Mozilla/5.0 (Windows NT 10.0; Win64; x64) AppleWebKit/537.36 (KHTML, like Gecko) Chrome/51.0.2704.79 Safari/537.36 Edge/14.14393\n"
          ]
        },
        {
          "name": "stdout",
          "output_type": "stream",
          "text": [
            "当前使用UA：Mozilla/4.0 (compatible; MSIE 7.0; Windows NT 5.1; Maxthon 2.0)\n"
          ]
        },
        {
          "name": "stdout",
          "output_type": "stream",
          "text": [
            "38600\n"
          ]
        },
        {
          "name": "stdout",
          "output_type": "stream",
          "text": [
            "38600\n"
          ]
        },
        {
          "name": "stdout",
          "output_type": "stream",
          "text": [
            "38600\n当前使用UA：Mozilla/5.0 (Windows NT 10.0; Win64; x64) AppleWebKit/537.36 (KHTML, like Gecko) Chrome/51.0.2704.79 Safari/537.36 Edge/14.14393\n"
          ]
        },
        {
          "name": "stdout",
          "output_type": "stream",
          "text": [
            "38600\n"
          ]
        },
        {
          "name": "stdout",
          "output_type": "stream",
          "text": [
            "38600\n"
          ]
        },
        {
          "name": "stdout",
          "output_type": "stream",
          "text": [
            "38600\n当前使用UA：Mozilla/4.0 (compatible; MSIE 7.0; Windows NT 5.1; Maxthon 2.0)\n"
          ]
        },
        {
          "name": "stdout",
          "output_type": "stream",
          "text": [
            "38600\n"
          ]
        },
        {
          "name": "stdout",
          "output_type": "stream",
          "text": [
            "38600\n"
          ]
        },
        {
          "name": "stdout",
          "output_type": "stream",
          "text": [
            "38600\n当前使用UA：Mozilla/4.0 (compatible; MSIE 7.0; Windows NT 5.1; Maxthon 2.0)\n"
          ]
        },
        {
          "name": "stdout",
          "output_type": "stream",
          "text": [
            "38600\n"
          ]
        }
      ],
      "source": [
        "# 用户代理池\n",
        "uapools \u003d [\n",
        "\t\"Mozilla/5.0 (Windows NT 10.0; Win64; x64) AppleWebKit/537.36 (KHTML, like Gecko) Chrome/51.0.2704.79 Safari/537.36 Edge/14.14393\",\n",
        "\t\"Mozilla/5.0 (Windows NT 10.0; WOW64) AppleWebKit/537.36 (KHTML, like Gecko) Chrome/49.0.2623.22 Safari/537.36 SE 2.X MetaSr 1.0\",\n",
        "\t\"Mozilla/4.0 (compatible; MSIE 7.0; Windows NT 5.1; Maxthon 2.0)\",\n",
        "]\n",
        "url \u003d \"https://www.qiushibaike.com/\"\n",
        "\n",
        "\n",
        "def UA():\n",
        "\topener \u003d urllib.request.build_opener()\n",
        "\tthisua \u003d random.choice(uapools)\n",
        "\tua \u003d (\"User-Agent\", thisua)\n",
        "\topener.addheaders \u003d [ua]\n",
        "\turllib.request.install_opener(opener)\n",
        "\tprint(\"当前使用UA：\" + str(thisua))\n",
        "\n",
        "\n",
        "for i in range(0, 10):\n",
        "\tUA()\n",
        "\tdata \u003d urllib.request.urlopen(url).read().decode(\"utf-8\", \"ignore\")\n",
        "\n",
        "for i in range(0, 10):\n",
        "\tif i % 3 \u003d\u003d 0:\n",
        "\t\tUA()\n",
        "\tdata \u003d urllib.request.urlopen(url).read().decode(\"utf-8\", \"ignore\")\n",
        "\tprint(len(data))\n"
      ]
    },
    {
      "cell_type": "code",
      "execution_count": 12,
      "metadata": {
        "collapsed": false,
        "pycharm": {}
      },
      "outputs": [],
      "source": [
        "# 糗事百科爬虫\n",
        "\n",
        "import urllib.request\n",
        "import random\n",
        "import re\n",
        "\n",
        "uapools \u003d [\n",
        "\t\"Mozilla/5.0 (Windows NT 10.0; Win64; x64) AppleWebKit/537.36 (KHTML, like Gecko) Chrome/51.0.2704.79 Safari/537.36 Edge/14.14393\",\n",
        "\t\"Mozilla/5.0 (Windows NT 10.0; WOW64) AppleWebKit/537.36 (KHTML, like Gecko) Chrome/49.0.2623.22 Safari/537.36 SE 2.X MetaSr 1.0\",\n",
        "\t\"Mozilla/4.0 (compatible; MSIE 7.0; Windows NT 5.1; Maxthon 2.0)\",\n",
        "]\n",
        "\n",
        "\n",
        "def UA():\n",
        "\topener \u003d urllib.request.build_opener()\n",
        "\tthisua \u003d random.choice(uapools)\n",
        "\tua \u003d (\"User-Agent\", thisua)\n",
        "\topener.addheaders \u003d [ua]\n",
        "\turllib.request.install_opener(opener)\n",
        "\n",
        "\n",
        "for i in range(3):\n",
        "\tUA()\n",
        "\tthisurl \u003d \"http://www.qiushibaike.com/8hr/page/\" + str(i + 1) + \"/?s\u003d4948859\"\n",
        "\tdata \u003d urllib.request.urlopen(thisurl).read().decode(\"utf-8\", \"ignore\")\n",
        "\t# print(data)\n",
        "\tpat \u003d \u0027\u003cdiv class\u003d\"recmd-right\"\u003e.*?\u003ca class\u003d\"recmd-content\"\u003e(.*?)\u003c/a\u003e.*?\u003c/div\u003e\u0027\n",
        "\trst \u003d re.compile(pat, re.S).findall(data)\n",
        "\tfor j in range(0, len(rst)):\n",
        "\t\tprint(rst[j])\n",
        "\t\tprint(\"-------\")\n"
      ]
    },
    {
      "cell_type": "code",
      "execution_count": null,
      "metadata": {
        "pycharm": {}
      },
      "outputs": [],
      "source": []
    }
  ],
  "metadata": {
    "kernelspec": {
      "name": "pycharm-e3e118b3",
      "language": "python",
      "display_name": "PyCharm (reptile)"
    },
    "language_info": {
      "codemirror_mode": {
        "name": "ipython",
        "version": 2
      },
      "file_extension": ".py",
      "mimetype": "text/x-python",
      "name": "python",
      "nbconvert_exporter": "python",
      "pygments_lexer": "ipython2",
      "version": "2.7.6"
    },
    "stem_cell": {
      "cell_type": "raw",
      "source": "",
      "metadata": {
        "pycharm": {
          "metadata": false
        }
      }
    }
  },
  "nbformat": 4,
  "nbformat_minor": 0
}