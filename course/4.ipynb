{
  "cells": [
    {
      "cell_type": "code",
      "execution_count": null,
      "metadata": {
        "pycharm": {
          "is_executing": true
        }
      },
      "outputs": [
        {
          "name": "stdout",
          "text": [
            "[2019-03-28 22:53:14]----爬取第1页数据.\n",
            "https://yq.aliyun.com/articles/695635\n",
            "入门科普：Python、R、大数据、云计算最全学习资源都在这里\nhttps://yq.aliyun.com/articles/695634\n",
            "书籍:Data Cleaning数据清洗-基于shell和python - 2018.pdf\nhttps://yq.aliyun.com/articles/695467\n",
            "书籍:Learn Web Development with Python - 2018.pdf\nhttps://yq.aliyun.com/articles/695470\n",
            "书籍:Learning Python for Forensics 2nd Edition - 2019.pdf\nhttps://yq.aliyun.com/articles/695468\n",
            "书籍:Pro Python 3 3rd -2019: Features and Tools for Professional Development .pdf\nhttps://yq.aliyun.com/articles/695378\n",
            "介绍几款 Python 类型检查工具\nhttps://yq.aliyun.com/articles/695251\n",
            "书籍:Python Testing Cookbook, 2nd Edition - 2018.pdf python测试cookbook\nhttps://yq.aliyun.com/articles/695250\n",
            "书籍:Daniel Arbuckle\u0026#039;s Mastering Python - 2017\nhttps://yq.aliyun.com/articles/695157\n",
            "【Python 学习进阶月刊】 第一期：深入Python与日志服务，玩转大规模数据分析处理实战\nhttps://yq.aliyun.com/articles/695195\n",
            "esproc vs python 1 增删改查\nhttps://yq.aliyun.com/articles/695155\n",
            "【资料下载】Python 系列直播——深入Python与日志服务，玩转大规模数据分析处理实战第五讲\nhttps://yq.aliyun.com/articles/694891\n",
            "python爬虫js加密解密系列文章合集\nhttps://yq.aliyun.com/articles/694429\n",
            "Hanlp汉字转拼音使用python调用详解\nhttps://yq.aliyun.com/articles/694386\n",
            "Python自制微信机器人：群发消息、自动接收好友\nhttps://yq.aliyun.com/articles/694028\n",
            "python设计模式（十二）：结构型模式总结\n[2019-03-28 22:53:26]----爬取第2页数据.\n",
            "https://yq.aliyun.com/articles/694613\n",
            "【资料下载】深入Python与日志服务，玩转大规模数据分析处理实战系列直播第四讲\nhttps://yq.aliyun.com/articles/694337\n"
          ],
          "output_type": "stream"
        }
      ],
      "source": [
        "import requests\n",
        "import re\n",
        "import time\n",
        "\n",
        "key \u003d \"Python\"\n",
        "url \u003d \"https://yq.aliyun.com/search/articles/\"\n",
        "data \u003d requests.get(url, params\u003d{\"q\":key}).text\n",
        "pat1 \u003d \u0027\u003cdiv class\u003d\"_search-info\"\u003e找到(.*?)条关于\u0027\n",
        "allline \u003d re.compile(pat1, re.S).findall(data)[0]\n",
        "allpage \u003d int(allline) // 15 + 1\n",
        "\n",
        "for i in range(0, int(allpage)):\n",
        "    print(\"[{}]----爬取第{}页数据.\".format(time.strftime(\"%Y-%m-%d %H:%M:%S\", time.localtime()), i+1))\n",
        "    index \u003d str(i+1)\n",
        "    get_data \u003d {\n",
        "        \"q\" : key,\n",
        "        \"p\" : index,\n",
        "    }\n",
        "    data \u003d requests.get(url, params \u003d get_data).text\n",
        "    pat_url\u003d\u0027\u003cdiv class\u003d\"media-body text-overflow\"\u003e.*?\u003ca href\u003d\"(.*?)\"\u003e\u0027\n",
        "    articles \u003d re.compile(pat_url, re.S).findall(data)\n",
        "    \n",
        "    for j in articles:\n",
        "        thisurl \u003d \"https://yq.aliyun.com\"+j\n",
        "        print(thisurl)\n",
        "        thisdata \u003d requests.get(thisurl).text\n",
        "#         print(thisdata)\n",
        "        pat_title \u003d \u0027\u003cp class\u003d\"hiddenTitle\"\u003e(.*?)\u003c/p\u003e\u0027\n",
        "        pat_content \u003d \u0027\u003cdiv class\u003d\"content-detail markdown-body\"\u003e(.*?)\u003cdiv class\u003d\"copyright-outer-line yq-blog-sem-remove\"\u003e\u0027\n",
        "        title \u003d re.compile(pat_title, re.S).findall(thisdata)[0]\n",
        "        content \u003d re.compile(pat_content,re.S).findall(thisdata)[0]\n",
        "        print(title)"
      ]
    },
    {
      "cell_type": "code",
      "execution_count": null,
      "metadata": {
        "pycharm": {}
      },
      "outputs": [],
      "source": []
    }
  ],
  "metadata": {
    "kernelspec": {
      "display_name": "Python 3",
      "language": "python",
      "name": "python3"
    },
    "language_info": {
      "codemirror_mode": {
        "name": "ipython",
        "version": 3
      },
      "file_extension": ".py",
      "mimetype": "text/x-python",
      "name": "python",
      "nbconvert_exporter": "python",
      "pygments_lexer": "ipython3",
      "version": "3.6.2"
    }
  },
  "nbformat": 4,
  "nbformat_minor": 2
}