{
  "cells": [
    {
      "cell_type": "code",
      "execution_count": 1,
      "metadata": {
        "collapsed": true,
        "pycharm": {
          "is_executing": false
        }
      },
      "outputs": [
        {
          "name": "stdout",
          "text": [
            "\r\n\r\n\u003cHTML\u003e\u003cHEAD\u003e\u003cTITLE\u003e登录_信息中心_成都信息工程大学\u003c/TITLE\u003e\r\n\u003cMETA http-equiv\u003dcontent-type content\u003d\"text/html; charset\u003dgb2312\"\u003e\r\n\u003cSCRIPT language\u003djavascript\u003e\r\n\tif (top.location !\u003d self.location) { top.location\u003dself.location; }\r\n\twindow.moveTo(-4,-4);\r\n\twindow.resizeTo(window.screen.availWidth+8,window.screen.availHeight+8);\r\n\r\n\tfunction formValidator(theForm)\r\n\t{\r\n\t\ttheForm.txtId.value \u003d A_trim(theForm.txtId.value);\r\n\t\ttheForm.txtMM.value \u003d A_trim(theForm.txtMM.value);\r\n\t\ttheForm.verifycode.value \u003d A_trim(theForm.verifycode.value);\r\n\r\n\t\tif (theForm.txtId.value \u003d\u003d \"\"){\r\n\t\t\talert(\"请在 用户名 域中输入值。\");   theForm.txtId.focus();   return (false);\r\n\t\t}\r\n\t\tif (theForm.txtId.value.length \u003c 2){\r\n\t\t\talert(\"在 用户名 域中，请至少输入 2 个字符。\"); theForm.txtId.focus();  return (false);\r\n\t\t}\r\n\t\tif (theForm.txtId.value.length \u003e 10){\r\n\t\t\talert(\"在 用户名 域中，请最多输入 10 个字符。\"); theForm.txtId.focus();  return (false);\r\n\t\t}\r\n\r\n\t\tvar checkStr \u003d theForm.txtId.value;\r\n\t\tvar allValid \u003d false;\r\n\t\tfor (i \u003d 0;  i \u003c checkStr.length;  i++){\r\n\t\t\tif (checkStr.charAt(i)!\u003d\u0027 \u0027) { allValid \u003d true;   break;   }\r\n\t\t}\r\n\t\tif (!allValid){\r\n\t\t\talert(\"请在 用户名 域中输入值(不能只输入空格)。\");   theForm.txtId.focus();  return (false);\r\n\t\t}\r\n\r\n\t\tif (theForm.txtMM.value \u003d\u003d \u0027\u0027){\r\n\t\t\talert(\u0027请输入密码！\u0027);  theForm.txtMM.focus();  return false;\r\n\t\t}\r\n\t\tif (theForm.verifycode.value \u003d\u003d \u0027\u0027 || theForm.verifycode.value \u003d\u003d \u0027不分大小写\u0027){\r\n\t\t\talert(\u0027请输入验证码！\u0027);  theForm.verifycode.focus();  return false;\r\n\t\t}\r\n\r\n\t\tshowBusyDiv();\r\n\t\treturn (true);\r\n\t}\r\n\r\n\tfunction setVal(inp, act) {\r\n\t\tif (1 \u003d\u003d act) {\r\n\t\t\tif (\u0027不分大小写\u0027 \u003d\u003d inp.value) inp.value \u003d \u0027\u0027;\r\n\t\t\tinp.select();\r\n\t\t}\r\n\t\telse {\r\n\t\t\tif (\u0027\u0027 \u003d\u003d inp.value) inp.value \u003d \u0027不分大小写\u0027;\r\n\t\t}\r\n\t}\r\n\r\n\tfunction showBusyDiv()  //显示隐藏层和弹出层\r\n\t{\r\n\t\tvar hideobj \u003d document.getElementById(\"hideBusyBg\");\r\n\t\thideobj.style.display\u003d\"block\";  //显示隐藏层\r\n\t\thideobj.style.height \u003d (document.body.scrollHeight\u003edocument.body.clientHeight) ? document.body.scrollHeight+\"px\" : document.body.clientHeight+\"px\";\r\n\t\thideobj.style.width  \u003d (document.body.scrollWidth \u003edocument.body.clientWidth ) ? document.body.scrollWidth +\"px\" : document.body.clientWidth +\"px\" ;\r\n\t\tdocument.getElementById(\"hideInfoBox\").style.display\u003d\"block\";  //显示弹出层\r\n\t}\r\n\u003c/SCRIPT\u003e\r\n\r\n\u003cLINK href\u003d\"images/User_Login.css\" type\u003dtext/css rel\u003dstylesheet\u003e\r\n\u003cMETA http-equiv\u003dContent-Type content\u003d\"text/html; charset\u003dgb2312\"\u003e\r\n\u003cstyle\u003e\r\n\thtml,body {height: 100%;}\r\n\t#floater {\r\n\t\tfloat:left;\r\n\t\theight:50%;\t/*相对于父元素高度的50%*/\r\n\t\tmargin-bottom: -185px;\t/*值大小为居中元素高度的一半（240px/2）*/\r\n\t}\r\n\r\n\t#content {\r\n\t\tclear:both;/*清除浮动*/\r\n\t\theight: 370px;\r\n\t\tposition: relative;\r\n\t}\r\n\r\n\t#hideBusyBg { position:absolute;left:0px;top:0px; background-color:#ffffff;\r\n\t\twidth:100%; /*设置为100%，这样才能使隐藏背景层覆盖原页面*/\r\n\t\tfilter:alpha(opacity\u003d60);  /*设置透明度为60%*/\r\n\t\topacity:0.6;  /*非IE浏览器下设置透明度为60%*/\r\n\t\tdisplay:none;  z-Index:2; }\r\n\t#hideInfoBox {  height: 30px; width: 400px;  margin-top: -30px;  margin-left: -200px;\r\n\t\tposition: absolute;  left: 50%;  top: 50%; padding-top:5px; padding-left:6px; text-align:center;\r\n\t\tfont-size:16px; font-family:宋体; color:#0000ff; line-height:22px;\r\n\t\tbackground-color:#ffff00; display:none; cursor:pointer; z-Index:3; }\r\n\u003c/style\u003e\r\n\u003cSCRIPT src\u003d\"Yzm/yzm.js\"\u003e\u003c/SCRIPT\u003e\r\n\u003c/HEAD\u003e\r\n\r\n\u003cBODY id\u003duserlogin_body\u003e\r\n\u003cdiv id\u003d\"hideBusyBg\"\u003e\u003c/div\u003e\r\n\u003cdiv id\u003d\"hideInfoBox\"\u003e\u003cmarquee direction\u003dup scrolldelay\u003d160 style\u003d\"height:20px;text-align:center\"\u003e登录中，请稍候...\u003c/marquee\u003e\u003c/div\u003e\r\n\r\n\u003cdiv id\u003d\"floater\"\u003e\u003c/div\u003e\r\n\r\n\u003cdiv id\u003d\"content\" align\u003dcenter\u003e\r\n\u003cDIV id\u003duser_login\u003e\r\n\u003cform style\u003d\"margin-top:0; margin-bottom: 0\" name\u003d\"FmLgn\" METHOD\u003d\"post\" ACTION\u003d\"Login.asp\" target\u003d\"_top\" onsubmit\u003d\"javascript:return formValidator(this);\"\u003e\r\n\t\u003cinput type\u003dhidden name\u003dWinW value\u003d0\u003e\u003cinput type\u003dhidden name\u003dWinH value\u003d0\u003e\r\n\u003cDL\u003e\r\n\t\u003cDD id\u003duser_top\u003e\u003cUL\u003e\r\n\t\t\u003cLI class\u003duser_top_z\u003e\u003c/LI\u003e\u003c/UL\u003e\u003c/DD\u003e\r\n\r\n\t\u003cDD id\u003duser_main\u003e\u003cUL\u003e\r\n\t\t\u003cLI class\u003duser_main_l\u003e\u003c/LI\u003e\r\n\t\t\u003cLI class\u003duser_main_c\u003e\r\n\t\t\t\u003cDIV class\u003duser_main_box\u003e\r\n\t\t\t\t\u003cUL\u003e\r\n\t\t\t\t\t\u003cLI class\u003duser_main_text\u003e用户名：\u003c/LI\u003e\r\n\t\t\t\t\t\u003cLI class\u003duser_main_input\u003e\u003cINPUT class\u003dTxtUserNameCssClass id\u003dtxtId name\u003dtxtId Value\u003d\"\" maxlength\u003d\"10\"\u003e\u003c/LI\u003e\u003c/UL\u003e\r\n\t\t\t\t\u003cUL\u003e\r\n\t\t\t\t\t\u003cLI class\u003duser_main_text\u003e密　码：\u003c/LI\u003e\r\n\t\t\t\t\t\u003cLI class\u003duser_main_input\u003e\u003cINPUT class\u003dTxtPasswordCssClass id\u003dtxtMM type\u003dpassword name\u003dtxtMM maxlength\u003d\"16\"\u003e\u003c/LI\u003e\u003c/UL\u003e\r\n\r\n\t\t\t\t\u003cUL\u003e\r\n\t\t\t\t\t\u003cLI class\u003duser_main_text style\u003d\"height:50px;margin-top:8px;\"\u003e验证码：\u003c/LI\u003e\r\n\t\t\t\t\t\u003cLI class\u003duser_main_input\u003e\u003cINPUT class\u003dTxtValidateCodeCssClass id\u003dtxtVC type\u003dtext name\u003dverifycode autocomplete\u003d\"off\"\r\n\t\t\t\t\t\tmaxlength\u003d\"4\" value\u003d\"不分大小写\" onfocus\u003d\"javascript:setVal(this, 1);\" onblur\u003d\"javascript:setVal(this, 2);\"\u003e\r\n\t\t\t\t\t\t\u003cimg id\u003dverifypic src\u003d\"Yzm/noYzm.bmp\"\u003e　\u003cA title\u003d\"若看不清左边的字符，请点击以得到更清晰的字符\"\r\n\t\t\t\t\t\t\thref\u003d\"javascript:newverifypic();\"\u003e看不清?\u003c/A\u003e\r\n\t\t\t\t\t\u003cinput type\u003d\"hidden\" name\u003d\"codeKey\" value\u003d\"826636\"\u003e\u003cINPUT type\u003dhidden name\u003dLogin Value\u003d\"Check\"\u003e\r\n\t\t\t\t\u003c/LI\u003e\u003c/UL\u003e\r\n\t\t\t\u003c/DIV\u003e\r\n\t\t\u003c/LI\u003e\r\n\r\n\t\t\u003cLI class\u003duser_main_r\u003e\u003cINPUT class\u003dIbtnEnterCssClass id\u003dIbtnEnter \r\n\t\t\tstyle\u003d\"BORDER-TOP-WIDTH: 0px; BORDER-LEFT-WIDTH: 0px; BORDER-BOTTOM-WIDTH: 0px; BORDER-RIGHT-WIDTH: 0px\" \r\n\t\t\ttype\u003dimage src\u003d\"images/user_botton.gif\" name\u003dIbtnEnter\u003e \u003c/LI\u003e\r\n\t\u003c/UL\u003e\u003c/DD\u003e\r\n\r\n\t\u003cDD id\u003duser_bottom\u003e\u003cUL\u003e\u003cLI class\u003duser_main_z\u003e本系统帐号与学校网络存储系统相同，由信息中心统一管理。\u003cbr\u003e＊ 忘记密码后，请到信息中心前台修改，新设置的密码将在30分钟内传送到本系统。\t\u003c/LI\u003e\u003c/UL\u003e\u003c/DD\u003e\r\n\r\n\t\u003cDD id\u003duser_bottom\u003e\u003cUL\u003e\r\n\t\t\u003cLI class\u003duser_bottom_l\u003e\u003c/LI\u003e\r\n\t\t\u003cLI class\u003duser_bottom_c\u003e\u003cSPAN style\u003d\"MARGIN-TOP: 40px\"\u003e成都信息工程大学信息中心 \u003cA href\u003d\"http://xxzx.cuit.edu.cn\"\u003ehttp://xxzx.cuit.edu.cn\u003c/A\u003e。\u003c/SPAN\u003e \u003c/LI\u003e\r\n\t\t\u003cLI class\u003duser_bottom_r\u003e\u003c/LI\u003e\r\n\t\u003c/UL\u003e\u003c/DD\u003e\r\n\u003c/DL\u003e\r\n\u003c/form\u003e\r\n\u003c/DIV\u003e\u003c/div\u003e\r\n\r\n\u003cSCRIPT language\u003dJavaScript\u003e\r\n\u003c!--\r\n\tvar codeKey \u003d \u0027826636\u0027;\r\n\r\n\tnewverifypic();\r\n\tFmLgn.WinW.value\u003dwindow.screen.availWidth;\r\n\tFmLgn.WinH.value\u003dwindow.screen.availHeight;\r\n\tFmLgn.txtId.focus();\r\n//--\u003e\r\n\u003c/SCRIPT\u003e\r\n\u003c/BODY\u003e\r\n\u003c/HTML\u003e\r\n\n"
          ],
          "output_type": "stream"
        }
      ],
      "source": [
        "import urllib.request\n",
        "import re\n",
        "import random\n",
        "\n",
        "uapools \u003d [\n",
        "\t\"Mozilla/5.0 (Windows NT 10.0; Win64; x64) AppleWebKit/537.36 (KHTML, like Gecko) Chrome/51.0.2704.79 Safari/537.36 Edge/14.14393\",\n",
        "\t\"Mozilla/5.0 (Windows NT 10.0; WOW64) AppleWebKit/537.36 (KHTML, like Gecko) Chrome/49.0.2623.22 Safari/537.36 SE 2.X MetaSr 1.0\",\n",
        "\t\"Mozilla/4.0 (compatible; MSIE 7.0; Windows NT 5.1; Maxthon 2.0)\",\n",
        "]\n",
        "\n",
        "\n",
        "def UA():\n",
        "\topener \u003d urllib.request.build_opener()\n",
        "\tthisua \u003d random.choice(uapools)\n",
        "\tua \u003d (\"User-Agent\", thisua)\n",
        "\topener.addheaders \u003d [ua]\n",
        "\turllib.request.install_opener(opener)\n",
        "\n",
        "\n",
        "if __name__ \u003d\u003d \u0027__main__\u0027:\n",
        "\tUA()\n",
        "\tthisurl \u003d \"http://login.cuit.edu.cn/Login/xLogin/Login.asp\"\n",
        "\tdata \u003d urllib.request.urlopen(thisurl).read().decode(\"gb2312\", \"ignore\")\n",
        "\tprint(data)\n"
      ]
    },
    {
      "cell_type": "code",
      "execution_count": null,
      "metadata": {
        "pycharm": {}
      },
      "outputs": [],
      "source": []
    }
  ],
  "metadata": {
    "kernelspec": {
      "display_name": "Python 2",
      "language": "python",
      "name": "python2"
    },
    "language_info": {
      "codemirror_mode": {
        "name": "ipython",
        "version": 2
      },
      "file_extension": ".py",
      "mimetype": "text/x-python",
      "name": "python",
      "nbconvert_exporter": "python",
      "pygments_lexer": "ipython2",
      "version": "2.7.6"
    }
  },
  "nbformat": 4,
  "nbformat_minor": 0
}