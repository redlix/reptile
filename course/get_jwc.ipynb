{
 "cells": [
  {
   "cell_type": "code",
   "execution_count": 7,
   "metadata": {
    "collapsed": true
   },
   "outputs": [
    {
     "name": "stdout",
     "output_type": "stream",
     "text": [
      "\r\n\r\n<HTML><HEAD><TITLE>登录_信息中心_成都信息工程大学</TITLE>\r\n<META http-equiv=content-type content=\"text/html; charset=gb2312\">\r\n<SCRIPT language=javascript>\r\n\tif (top.location != self.location) { top.location=self.location; }\r\n\twindow.moveTo(-4,-4);\r\n\twindow.resizeTo(window.screen.availWidth+8,window.screen.availHeight+8);\r\n\r\n\tfunction formValidator(theForm)\r\n\t{\r\n\t\ttheForm.txtId.value = A_trim(theForm.txtId.value);\r\n\t\ttheForm.txtMM.value = A_trim(theForm.txtMM.value);\r\n\t\ttheForm.verifycode.value = A_trim(theForm.verifycode.value);\r\n\r\n\t\tif (theForm.txtId.value == \"\"){\r\n\t\t\talert(\"请在 用户名 域中输入值。\");   theForm.txtId.focus();   return (false);\r\n\t\t}\r\n\t\tif (theForm.txtId.value.length < 2){\r\n\t\t\talert(\"在 用户名 域中，请至少输入 2 个字符。\"); theForm.txtId.focus();  return (false);\r\n\t\t}\r\n\t\tif (theForm.txtId.value.length > 10){\r\n\t\t\talert(\"在 用户名 域中，请最多输入 10 个字符。\"); theForm.txtId.focus();  return (false);\r\n\t\t}\r\n\r\n\t\tvar checkStr = theForm.txtId.value;\r\n\t\tvar allValid = false;\r\n\t\tfor (i = 0;  i < checkStr.length;  i++){\r\n\t\t\tif (checkStr.charAt(i)!=' ') { allValid = true;   break;   }\r\n\t\t}\r\n\t\tif (!allValid){\r\n\t\t\talert(\"请在 用户名 域中输入值(不能只输入空格)。\");   theForm.txtId.focus();  return (false);\r\n\t\t}\r\n\r\n\t\tif (theForm.txtMM.value == ''){\r\n\t\t\talert('请输入密码！');  theForm.txtMM.focus();  return false;\r\n\t\t}\r\n\t\tif (theForm.verifycode.value == '' || theForm.verifycode.value == '不分大小写'){\r\n\t\t\talert('请输入验证码！');  theForm.verifycode.focus();  return false;\r\n\t\t}\r\n\r\n\t\tshowBusyDiv();\r\n\t\treturn (true);\r\n\t}\r\n\r\n\tfunction setVal(inp, act) {\r\n\t\tif (1 == act) {\r\n\t\t\tif ('不分大小写' == inp.value) inp.value = '';\r\n\t\t\tinp.select();\r\n\t\t}\r\n\t\telse {\r\n\t\t\tif ('' == inp.value) inp.value = '不分大小写';\r\n\t\t}\r\n\t}\r\n\r\n\tfunction showBusyDiv()  //显示隐藏层和弹出层\r\n\t{\r\n\t\tvar hideobj = document.getElementById(\"hideBusyBg\");\r\n\t\thideobj.style.display=\"block\";  //显示隐藏层\r\n\t\thideobj.style.height = (document.body.scrollHeight>document.body.clientHeight) ? document.body.scrollHeight+\"px\" : document.body.clientHeight+\"px\";\r\n\t\thideobj.style.width  = (document.body.scrollWidth >document.body.clientWidth ) ? document.body.scrollWidth +\"px\" : document.body.clientWidth +\"px\" ;\r\n\t\tdocument.getElementById(\"hideInfoBox\").style.display=\"block\";  //显示弹出层\r\n\t}\r\n</SCRIPT>\r\n\r\n<LINK href=\"images/User_Login.css\" type=text/css rel=stylesheet>\r\n<META http-equiv=Content-Type content=\"text/html; charset=gb2312\">\r\n<style>\r\n\thtml,body {height: 100%;}\r\n\t#floater {\r\n\t\tfloat:left;\r\n\t\theight:50%;\t/*相对于父元素高度的50%*/\r\n\t\tmargin-bottom: -185px;\t/*值大小为居中元素高度的一半（240px/2）*/\r\n\t}\r\n\r\n\t#content {\r\n\t\tclear:both;/*清除浮动*/\r\n\t\theight: 370px;\r\n\t\tposition: relative;\r\n\t}\r\n\r\n\t#hideBusyBg { position:absolute;left:0px;top:0px; background-color:#ffffff;\r\n\t\twidth:100%; /*设置为100%，这样才能使隐藏背景层覆盖原页面*/\r\n\t\tfilter:alpha(opacity=60);  /*设置透明度为60%*/\r\n\t\topacity:0.6;  /*非IE浏览器下设置透明度为60%*/\r\n\t\tdisplay:none;  z-Index:2; }\r\n\t#hideInfoBox {  height: 30px; width: 400px;  margin-top: -30px;  margin-left: -200px;\r\n\t\tposition: absolute;  left: 50%;  top: 50%; padding-top:5px; padding-left:6px; text-align:center;\r\n\t\tfont-size:16px; font-family:宋体; color:#0000ff; line-height:22px;\r\n\t\tbackground-color:#ffff00; display:none; cursor:pointer; z-Index:3; }\r\n</style>\r\n<SCRIPT src=\"Yzm/yzm.js\"></SCRIPT>\r\n</HEAD>\r\n\r\n<BODY id=userlogin_body>\r\n<div id=\"hideBusyBg\"></div>\r\n<div id=\"hideInfoBox\"><marquee direction=up scrolldelay=160 style=\"height:20px;text-align:center\">登录中，请稍候...</marquee></div>\r\n\r\n<div id=\"floater\"></div>\r\n\r\n<div id=\"content\" align=center>\r\n<DIV id=user_login>\r\n<form style=\"margin-top:0; margin-bottom: 0\" name=\"FmLgn\" METHOD=\"post\" ACTION=\"Login.asp\" target=\"_top\" onsubmit=\"javascript:return formValidator(this);\">\r\n\t<input type=hidden name=WinW value=0><input type=hidden name=WinH value=0>\r\n<DL>\r\n\t<DD id=user_top><UL>\r\n\t\t<LI class=user_top_z></LI></UL></DD>\r\n\r\n\t<DD id=user_main><UL>\r\n\t\t<LI class=user_main_l></LI>\r\n\t\t<LI class=user_main_c>\r\n\t\t\t<DIV class=user_main_box>\r\n\t\t\t\t<UL>\r\n\t\t\t\t\t<LI class=user_main_text>用户名：</LI>\r\n\t\t\t\t\t<LI class=user_main_input><INPUT class=TxtUserNameCssClass id=txtId name=txtId Value=\"\" maxlength=\"10\"></LI></UL>\r\n\t\t\t\t<UL>\r\n\t\t\t\t\t<LI class=user_main_text>密　码：</LI>\r\n\t\t\t\t\t<LI class=user_main_input><INPUT class=TxtPasswordCssClass id=txtMM type=password name=txtMM maxlength=\"16\"></LI></UL>\r\n\r\n\t\t\t\t<UL>\r\n\t\t\t\t\t<LI class=user_main_text style=\"height:50px;margin-top:8px;\">验证码：</LI>\r\n\t\t\t\t\t<LI class=user_main_input><INPUT class=TxtValidateCodeCssClass id=txtVC type=text name=verifycode autocomplete=\"off\"\r\n\t\t\t\t\t\tmaxlength=\"4\" value=\"不分大小写\" onfocus=\"javascript:setVal(this, 1);\" onblur=\"javascript:setVal(this, 2);\">\r\n\t\t\t\t\t\t<img id=verifypic src=\"Yzm/noYzm.bmp\">　<A title=\"若看不清左边的字符，请点击以得到更清晰的字符\"\r\n\t\t\t\t\t\t\thref=\"javascript:newverifypic();\">看不清?</A>\r\n\t\t\t\t\t<input type=\"hidden\" name=\"codeKey\" value=\"427193\"><INPUT type=hidden name=Login Value=\"Check\">\r\n\t\t\t\t</LI></UL>\r\n\t\t\t</DIV>\r\n\t\t</LI>\r\n\r\n\t\t<LI class=user_main_r><INPUT class=IbtnEnterCssClass id=IbtnEnter \r\n\t\t\tstyle=\"BORDER-TOP-WIDTH: 0px; BORDER-LEFT-WIDTH: 0px; BORDER-BOTTOM-WIDTH: 0px; BORDER-RIGHT-WIDTH: 0px\" \r\n\t\t\ttype=image src=\"images/user_botton.gif\" name=IbtnEnter> </LI>\r\n\t</UL></DD>\r\n\r\n\t<DD id=user_bottom><UL><LI class=user_main_z>本系统帐号与学校网络存储系统相同，由信息中心统一管理。<br>＊ 忘记密码后，请到信息中心前台修改，新设置的密码将在30分钟内传送到本系统。\t</LI></UL></DD>\r\n\r\n\t<DD id=user_bottom><UL>\r\n\t\t<LI class=user_bottom_l></LI>\r\n\t\t<LI class=user_bottom_c><SPAN style=\"MARGIN-TOP: 40px\">成都信息工程大学信息中心 <A href=\"http://xxzx.cuit.edu.cn\">http://xxzx.cuit.edu.cn</A>。</SPAN> </LI>\r\n\t\t<LI class=user_bottom_r></LI>\r\n\t</UL></DD>\r\n</DL>\r\n</form>\r\n</DIV></div>\r\n\r\n<SCRIPT language=JavaScript>\r\n<!--\r\n\tvar codeKey = '427193';\r\n\r\n\tnewverifypic();\r\n\tFmLgn.WinW.value=window.screen.availWidth;\r\n\tFmLgn.WinH.value=window.screen.availHeight;\r\n\tFmLgn.txtId.focus();\r\n//-->\r\n</SCRIPT>\r\n</BODY>\r\n</HTML>\r\n\n"
     ]
    }
   ],
   "source": [
    "import urllib.request\n",
    "import re\n",
    "import random\n",
    "\n",
    "uapools = [\n",
    "\t\"Mozilla/5.0 (Windows NT 10.0; Win64; x64) AppleWebKit/537.36 (KHTML, like Gecko) Chrome/51.0.2704.79 Safari/537.36 Edge/14.14393\",\n",
    "\t\"Mozilla/5.0 (Windows NT 10.0; WOW64) AppleWebKit/537.36 (KHTML, like Gecko) Chrome/49.0.2623.22 Safari/537.36 SE 2.X MetaSr 1.0\",\n",
    "\t\"Mozilla/4.0 (compatible; MSIE 7.0; Windows NT 5.1; Maxthon 2.0)\",\n",
    "]\n",
    "\n",
    "\n",
    "def UA():\n",
    "\topener = urllib.request.build_opener()\n",
    "\tthisua = random.choice(uapools)\n",
    "\tua = (\"User-Agent\", thisua)\n",
    "\topener.addheaders = [ua]\n",
    "\turllib.request.install_opener(opener)\n",
    "\n",
    "\n",
    "if __name__ == '__main__':\n",
    "\tUA()\n",
    "\tthisurl = \"http://login.cuit.edu.cn/Login/xLogin/Login.asp\"\n",
    "\tdata = urllib.request.urlopen(thisurl).read().decode(\"gb2312\", \"ignore\")\n",
    "\tprint(data)\n"
   ]
  },
  {
   "cell_type": "code",
   "execution_count": null,
   "metadata": {},
   "outputs": [],
   "source": []
  }
 ],
 "metadata": {
  "kernelspec": {
   "display_name": "Python 2",
   "language": "python",
   "name": "python2"
  },
  "language_info": {
   "codemirror_mode": {
    "name": "ipython",
    "version": 2
   },
   "file_extension": ".py",
   "mimetype": "text/x-python",
   "name": "python",
   "nbconvert_exporter": "python",
   "pygments_lexer": "ipython2",
   "version": "2.7.6"
  }
 },
 "nbformat": 4,
 "nbformat_minor": 0
}
